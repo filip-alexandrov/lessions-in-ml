{
 "cells": [
  {
   "cell_type": "code",
   "execution_count": 4,
   "metadata": {},
   "outputs": [],
   "source": [
    "# residual learning from MF and NN \n",
    "import numpy as np \n",
    "import pandas as pd \n",
    "import matplotlib.pyplot as plt \n",
    "from sklearn.utils import shuffle \n",
    "\n",
    "from keras.models import Model \n",
    "from keras.layers import Input, Embedding, Flatten, Dense, Concatenate\n",
    "from keras.layers import Dropout, BatchNormalization, Activation, Dot\n",
    "from keras.regularizers import l2\n",
    "from keras.optimizers import SGD, Adam"
   ]
  },
  {
   "cell_type": "code",
   "execution_count": 5,
   "metadata": {},
   "outputs": [
    {
     "ename": "NameError",
     "evalue": "name 'Add' is not defined",
     "output_type": "error",
     "traceback": [
      "\u001b[0;31m---------------------------------------------------------------------------\u001b[0m",
      "\u001b[0;31mNameError\u001b[0m                                 Traceback (most recent call last)",
      "Cell \u001b[0;32mIn[5], line 28\u001b[0m\n\u001b[1;32m     26\u001b[0m m_bias \u001b[39m=\u001b[39m Embedding(M, \u001b[39m1\u001b[39m)(m) \u001b[39m# (N, 1, 1) \u001b[39;00m\n\u001b[1;32m     27\u001b[0m x \u001b[39m=\u001b[39m Dot(axes\u001b[39m=\u001b[39m\u001b[39m2\u001b[39m)([u_embedding, m_embedding]) \u001b[39m# (N, 1, 1) \u001b[39;00m\n\u001b[0;32m---> 28\u001b[0m x \u001b[39m=\u001b[39m Add()([x, u_bias, m_bias])\n\u001b[1;32m     29\u001b[0m x \u001b[39m=\u001b[39m Flatten()(x) \u001b[39m# (N, 1) \u001b[39;00m\n\u001b[1;32m     31\u001b[0m \u001b[39m# side branch Deep NN \u001b[39;00m\n",
      "\u001b[0;31mNameError\u001b[0m: name 'Add' is not defined"
     ]
    }
   ],
   "source": [
    "df = pd.read_csv(\"./data/edited_ratings.csv\")\n",
    "\n",
    "N = df.userId.max() + 1 # number of users \n",
    "M = df.movie_idx.max() + 1 # number of movies \n",
    "\n",
    "# split in train and test \n",
    "df = shuffle(df) \n",
    "cutoff = int(0.8*len(df))\n",
    "df_train = df.iloc[:cutoff] \n",
    "df_test = df.iloc[cutoff:] \n",
    "\n",
    "# init vars \n",
    "K = 10 # latent dimensionality \n",
    "mu = df_train.rating.mean() \n",
    "epoch = 25\n",
    "reg = 0 # regularization penalty\n",
    "\n",
    "# keras model \n",
    "u = Input(shape=(1, ))\n",
    "m = Input(shape=(1, ))\n",
    "u_embedding = Embedding(N, K)(u) # (N, 1, K) \n",
    "m_embedding = Embedding(M, K)(m) # (N, 1, K) \n",
    "\n",
    "# main branch MF\n",
    "u_bias = Embedding(N, 1)(u) # (N, 1, 1) \n",
    "m_bias = Embedding(M, 1)(m) # (N, 1, 1) \n",
    "x = Dot(axes=2)([u_embedding, m_embedding]) # (N, 1, 1) \n",
    "x = Add()([x, u_bias, m_bias])\n",
    "x = Flatten()(x) # (N, 1) \n",
    "\n",
    "# side branch Deep NN \n",
    "u_embedding = Flatten()(u_embedding) # (N, K) \n",
    "m_embedding = Flatten()(m_embedding) # (N, K) \n",
    "y = Concatenate()([u_embedding, m_embedding]) # (N, 2K) \n",
    "y = Dense(400)(y) \n",
    "y = Activation('elu')(y) \n",
    "# y = Dropout(0.5)(y) \n",
    "y = Dense(1)(y)\n",
    "\n",
    "# merge the 2 models using add layer \n",
    "x = Add()([x, y])"
   ]
  },
  {
   "cell_type": "code",
   "execution_count": null,
   "metadata": {},
   "outputs": [],
   "source": [
    "model = Model(inputs=[u, m], outputs= x)\n",
    "model.compile(\n",
    "    loss='mse', \n",
    "    optimizer=SGD(lr=0.01, momentum=0.9)\n",
    "    metrics=['mse']\n",
    ")\n",
    "\n",
    "r = model.fit(x = [df_train.userId.values, df_train.movie_idx.values],\n",
    "               y= df_train.rating.values - mu,\n",
    "               epochs=epoch, \n",
    "               batch_size=128, \n",
    "               validation_data=(\n",
    "                [df_test.userId.values, df_test.movie_idx.values], \n",
    "                df_test.rating.values - mu \n",
    "               ))"
   ]
  },
  {
   "cell_type": "code",
   "execution_count": null,
   "metadata": {},
   "outputs": [],
   "source": [
    "# plot losses \n",
    "plt.plot(r.history['loss'], label=\"train loss\")\n",
    "plt.plot(r.history['val_loss'], label='test loss')\n",
    "plt.legend()\n",
    "plt.show()\n",
    "\n",
    "# plot mse \n",
    "plt.plot(r.history['mean_squared_error'], label='train mse')\n",
    "plt.plot(r.history['val_mean_squared_error'], label=\"test mse\")\n",
    "plt.legend()\n",
    "plt.show()"
   ]
  }
 ],
 "metadata": {
  "kernelspec": {
   "display_name": "base",
   "language": "python",
   "name": "python3"
  },
  "language_info": {
   "codemirror_mode": {
    "name": "ipython",
    "version": 3
   },
   "file_extension": ".py",
   "mimetype": "text/x-python",
   "name": "python",
   "nbconvert_exporter": "python",
   "pygments_lexer": "ipython3",
   "version": "3.10.9"
  },
  "orig_nbformat": 4
 },
 "nbformat": 4,
 "nbformat_minor": 2
}
