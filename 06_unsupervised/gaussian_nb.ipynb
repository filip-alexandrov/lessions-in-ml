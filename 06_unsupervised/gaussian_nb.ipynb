{
 "cells": [
  {
   "cell_type": "code",
   "execution_count": 14,
   "metadata": {},
   "outputs": [],
   "source": [
    "from __future__ import print_function, division\n",
    "from future.utils import iteritems\n",
    "from builtins import range, input\n",
    "\n",
    "import numpy as np\n",
    "from sklearn.decomposition import PCA\n",
    "# from sklearn.naive_bayes import GaussianNB # doesn't have smoothing\n",
    "from scipy.stats import norm\n",
    "from scipy.stats import multivariate_normal as mvn\n",
    "import pandas as pd\n",
    "from sklearn.utils import shuffle"
   ]
  },
  {
   "cell_type": "code",
   "execution_count": 15,
   "metadata": {},
   "outputs": [],
   "source": [
    "def getKaggleMNIST():\n",
    "    # MNIST data:\n",
    "    # column 0 is labels\n",
    "    # column 1-785 is data, with values 0 .. 255\n",
    "    # total size of CSV: (42000, 1, 28, 28)\n",
    "    train = pd.read_csv('./data/mnist.csv').values.astype(np.float32)\n",
    "    train = shuffle(train)\n",
    "\n",
    "    Xtrain = train[:-1000,1:] / 255\n",
    "    Ytrain = train[:-1000,0].astype(np.int32)\n",
    "\n",
    "    Xtest  = train[-1000:,1:] / 255\n",
    "    Ytest  = train[-1000:,0].astype(np.int32)\n",
    "    return Xtrain, Ytrain, Xtest, Ytest"
   ]
  },
  {
   "cell_type": "code",
   "execution_count": 18,
   "metadata": {},
   "outputs": [
    {
     "name": "stdout",
     "output_type": "stream",
     "text": [
      "NB train score: 0.819\n",
      "NB test score: 0.812\n",
      "NB+PCA train score: 0.8824444444444445\n",
      "NB+PCA test score: 0.868\n"
     ]
    }
   ],
   "source": [
    "class GaussianNB(object):\n",
    "  def fit(self, X, Y, smoothing=1e-2):\n",
    "    self.gaussians = dict()\n",
    "    self.priors = dict()\n",
    "    labels = set(Y)\n",
    "    for c in labels:\n",
    "      current_x = X[Y == c]\n",
    "      self.gaussians[c] = {\n",
    "        'mean': current_x.mean(axis=0),\n",
    "        'var': current_x.var(axis=0) + smoothing,\n",
    "      }\n",
    "      self.priors[c] = float(len(Y[Y == c])) / len(Y)\n",
    "\n",
    "  def score(self, X, Y):\n",
    "    P = self.predict(X)\n",
    "    return np.mean(P == Y)\n",
    "\n",
    "  def predict(self, X):\n",
    "    N, D = X.shape\n",
    "    K = len(self.gaussians)\n",
    "    P = np.zeros((N, K))\n",
    "    for c, g in iteritems(self.gaussians):\n",
    "      mean, var = g['mean'], g['var']\n",
    "      P[:,c] = mvn.logpdf(X, mean=mean, cov=var) + np.log(self.priors[c])\n",
    "    return np.argmax(P, axis=1)\n",
    "\n",
    "\n",
    "# get data\n",
    "Xtrain, Ytrain, Xtest, Ytest = getKaggleMNIST()\n",
    "\n",
    "# try NB by itself\n",
    "model1 = GaussianNB()\n",
    "model1.fit(Xtrain, Ytrain)\n",
    "print(\"NB train score:\", model1.score(Xtrain, Ytrain))\n",
    "print(\"NB test score:\", model1.score(Xtest, Ytest))\n",
    "\n",
    "# try NB with PCA first\n",
    "pca = PCA(n_components=50)\n",
    "Ztrain = pca.fit_transform(Xtrain)\n",
    "Ztest = pca.transform(Xtest)\n",
    "\n",
    "model2 = GaussianNB()\n",
    "model2.fit(Ztrain, Ytrain)\n",
    "print(\"NB+PCA train score:\", model2.score(Ztrain, Ytrain))\n",
    "print(\"NB+PCA test score:\", model2.score(Ztest, Ytest))"
   ]
  }
 ],
 "metadata": {
  "kernelspec": {
   "display_name": "Python 3",
   "language": "python",
   "name": "python3"
  },
  "language_info": {
   "codemirror_mode": {
    "name": "ipython",
    "version": 3
   },
   "file_extension": ".py",
   "mimetype": "text/x-python",
   "name": "python",
   "nbconvert_exporter": "python",
   "pygments_lexer": "ipython3",
   "version": "3.9.6"
  },
  "orig_nbformat": 4
 },
 "nbformat": 4,
 "nbformat_minor": 2
}
