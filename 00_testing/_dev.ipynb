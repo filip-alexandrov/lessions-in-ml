{
 "cells": [
  {
   "cell_type": "code",
   "execution_count": null,
   "metadata": {},
   "outputs": [],
   "source": []
  },
  {
   "cell_type": "code",
   "execution_count": 57,
   "metadata": {},
   "outputs": [],
   "source": [
    "import pandas as pd\n",
    "\n",
    "column_names = ['itunes_id', 'episode_md', 'sentences', 'advertisement']\n",
    "new_df = pd.DataFrame(columns=column_names)\n",
    "\n",
    "def add_row(sentences, advertisement, itunes_id, episode_md):\n",
    "    # append no_advert section to the dataframe \n",
    "    new_df.loc[len(new_df)] = {\"sentences\": sentences, \n",
    "                               \"advertisement\" : advertisement, \n",
    "                               'itunes_id': itunes_id, \n",
    "                               'episode_md': episode_md}\n",
    "    \n",
    "def check_csv(itunes_id, episode_md, df):\n",
    "    word_window = []\n",
    "    last_was_advertisement = -1 # initialized (true/false)\n",
    "\n",
    "\n",
    "    for index, row in df.iterrows():\n",
    "        # init the window tracker\n",
    "        if last_was_advertisement == -1: \n",
    "            last_was_advertisement = row['advertisement']\n",
    "            word_window.append(str(row['word']))\n",
    "            \n",
    "        # change from no_advert to advert\n",
    "        elif row['advertisement'] == 1 and last_was_advertisement == 0: \n",
    "            # sentences in the advert/no_advert window\n",
    "            sentences = ' '.join(word_window) \n",
    "            # reset the window, so it can receive new words \n",
    "            word_window = []\n",
    "            # set to advert window\n",
    "            last_was_advertisement = 1\n",
    "            word_window.append(str(row['word']))\n",
    "\n",
    "            add_row(sentences, 0, itunes_id, episode_md)\n",
    "\n",
    "        # capture change from advert to no_advert\n",
    "        elif row['advertisement'] == 0 and last_was_advertisement == 1:\n",
    "            sentences = ' '.join(word_window) \n",
    "            word_window = []\n",
    "            last_was_advertisement = 0\n",
    "            word_window.append(str(row['word']))\n",
    "\n",
    "            add_row(sentences, 1, itunes_id, episode_md)\n",
    "\n",
    "        # last index, finish df \n",
    "        elif index == len(df) - 1: \n",
    "            # append the last known values \n",
    "            sentences =  ' '.join(word_window)\n",
    "            add_row(sentences, last_was_advertisement, itunes_id, episode_md)\n",
    "        \n",
    "        # nothing of the above => continue execution \n",
    "        else: \n",
    "            word_window.append(str(row['word']))\n",
    "\n",
    "def add_advert_column(itunes_id, episode_md, path): \n",
    "    df = pd.read_csv(path)\n",
    "\n",
    "    # create a new column 'advertisement' with default value 0\n",
    "    df['advertisement'] = 0\n",
    "\n",
    "    # loop through each row of the dataframe\n",
    "    for index, row in df.iterrows():\n",
    "    # try to parse the speaker column to integer\n",
    "        try:\n",
    "            speaker_int = int(row['speaker'])\n",
    "        # if parsing fails, set the 'advertisement' column to 1\n",
    "        except ValueError:\n",
    "            df.at[index, 'advertisement'] = 1\n",
    "    \n",
    "    check_csv(itunes_id, episode_md, df)\n"
   ]
  },
  {
   "cell_type": "code",
   "execution_count": 61,
   "metadata": {},
   "outputs": [
    {
     "name": "stdout",
     "output_type": "stream",
     "text": [
      "200\n",
      "400\n",
      "600\n",
      "800\n",
      "1000\n",
      "1200\n",
      "error\n",
      "1400\n",
      "1600\n",
      "1800\n",
      "2000\n",
      "2200\n",
      "2400\n",
      "2600\n",
      "2800\n",
      "3000\n",
      "3200\n",
      "3400\n",
      "3600\n",
      "3800\n"
     ]
    },
    {
     "ename": "NotADirectoryError",
     "evalue": "[Errno 20] Not a directory: './data/podscribe/.DS_Store'",
     "output_type": "error",
     "traceback": [
      "\u001b[0;31m---------------------------------------------------------------------------\u001b[0m",
      "\u001b[0;31mNotADirectoryError\u001b[0m                        Traceback (most recent call last)",
      "Cell \u001b[0;32mIn[61], line 12\u001b[0m\n\u001b[1;32m      9\u001b[0m subfolders \u001b[39m=\u001b[39m [f \u001b[39mfor\u001b[39;00m f \u001b[39min\u001b[39;00m folder_contents \u001b[39mif\u001b[39;00m os\u001b[39m.\u001b[39mpath\u001b[39m.\u001b[39misdir(os\u001b[39m.\u001b[39mpath\u001b[39m.\u001b[39mjoin(folder_path))]\n\u001b[1;32m     11\u001b[0m \u001b[39mfor\u001b[39;00m subfolder \u001b[39min\u001b[39;00m subfolders: \n\u001b[0;32m---> 12\u001b[0m     files \u001b[39m=\u001b[39m os\u001b[39m.\u001b[39;49mlistdir(\u001b[39m'\u001b[39;49m\u001b[39m./data/podscribe/\u001b[39;49m\u001b[39m'\u001b[39;49m \u001b[39m+\u001b[39;49m subfolder)\n\u001b[1;32m     14\u001b[0m     csv_files \u001b[39m=\u001b[39m [f \u001b[39mfor\u001b[39;00m f \u001b[39min\u001b[39;00m files \u001b[39mif\u001b[39;00m f\u001b[39m.\u001b[39mendswith(\u001b[39m'\u001b[39m\u001b[39m.csv\u001b[39m\u001b[39m'\u001b[39m)]\n\u001b[1;32m     16\u001b[0m     \u001b[39mfor\u001b[39;00m csv_file \u001b[39min\u001b[39;00m csv_files: \n",
      "\u001b[0;31mNotADirectoryError\u001b[0m: [Errno 20] Not a directory: './data/podscribe/.DS_Store'"
     ]
    }
   ],
   "source": [
    "import os \n",
    "\n",
    "counter = 0\n",
    "\n",
    "folder_path = './data/podscribe/'\n",
    "\n",
    "folder_contents = os.listdir(folder_path)\n",
    "\n",
    "subfolders = [f for f in folder_contents if os.path.isdir(os.path.join(folder_path))]\n",
    "\n",
    "for subfolder in subfolders: \n",
    "    files = os.listdir('./data/podscribe/' + subfolder)\n",
    "\n",
    "    csv_files = [f for f in files if f.endswith('.csv')]\n",
    "    \n",
    "    for csv_file in csv_files: \n",
    "        path = os.path.join(folder_path, subfolder, csv_file)\n",
    "        itunes_id =  csv_file.split(\"_\")[1]\n",
    "        episode_md = csv_file.split(\"_\")[2][:-4]\n",
    "\n",
    "        counter +=1\n",
    "        if counter % 200 == 0: \n",
    "            print(counter) \n",
    "\n",
    "        try:         \n",
    "            add_advert_column(itunes_id, episode_md, path)\n",
    "        except Exception as e: \n",
    "            print(\"error\")"
   ]
  },
  {
   "cell_type": "code",
   "execution_count": 65,
   "metadata": {},
   "outputs": [
    {
     "data": {
      "text/plain": [
       "\"Done. What Are You using for it's, it's a new client. I Use it for everything. What's the nastiest thing you look at on the internet? Adam? I don't really use the, I mean, I don't, I don't even really look at porn that much anymore. You don't? No. Not that much. What that means, it's Like, I don't know. I live with my girlfriend, like, I don't know. She's home. She's home. I gotta, I'm gonna go like Just She was gone more. You Would? Yeah. She's been outta town this week. I've had a nice time. How many times have you looked at porn this week? Probably three. Three times. Three Times. What's your refractory? What's refractory? You know that? Oh, for like reloading? Yeah. Oh, I'm, I can shoot heavy 15 to 20 minutes later. 15 to 20 minutes. Yeah. Ropes Peter North. If I jack off, I probably, I can't get horny for like three days. Really? Yeah. Yeah. I don't really use the internet for anything anymore Either. Yeah. I like, I use Wikipedia a lot. I don't even use Wikipedia. I make AI art and sell it. Do you? Yeah. Are you making art now? No. Oh, okay. I've never done that. One time People are like worried about this AI stuff. I don't give a fuck. And I was thinking, I, I don't give a fuck at all. Because like if, like, first of all the, I cannot wait until copywriters are out of work. Yeah, yeah, yeah. Shit. Job in the world. Yeah. If anybody deserves to be replaced by a robot, it's fucking like, people work in marketing and do copywriting. Yeah, Yeah. Yeah. And they should. That's they're the silent, you don't really, They're getting, They're getting paid because they know they, they get fucking made. They're getting mad. I sat on a plane one time. There was a woman in like the business, not bi, whatever the class where it's like The nicest one. Yeah. The one where it's like you don't, like, you're not coming off the plane paralyzed. Yeah. Whatever. The one right in front. Like the even more space. Yeah. Yeah. I think that is Business class maybe. Whatever. So there's this fi there's a lady and I saw her on her laptop. It's just this like, fucking business bitch one time. And she's just writing the same sentence with like different variations over and over again. She's like, that's her job. She's like in, in marketing or that's what she copyrights. Yeah. She just copyrights. It's like, be the most you empowered to be Wow. Be your empowered. You empowered. Yes. Well, cuz that's like one of the big side hustles now. It's like, if you like sign up for like this, I think this was her main job. Yeah. I think it's somebody that gets paid, like you said, probably like $350,000. They get a lot. Yeah. To be like, Maybelline it's makeup but different. Yeah. Here's my sentence I came up with. I would love the second robot can do that. They Can't, my, my girlfriend's dad, like packaging for like, products. Like a company will come and he'll like re redesign it and they pay namers if they're like a, they wanna change the name of a brand. And he used fucking chat G p T for that. He Did. And he got a list from a neighbor and they, they could pay like $30,000 for like a hundred names and they're all fake. They're like a aventra or something, you know, like they're all like fake coming up with those. Yeah. Yeah. And then he used Chad G for it and he was like, it was discernibly better. Yeah. Like way better. Yeah. This, this is why we're in, we're in good shape with The Adam Friedland Show. Because the robot will never be able to replace this guy. No, I mean, Because here's the thing. The the foot. Yeah. The, the fluidity of That's right. The absurdity of his, his body for to start with. That's right. But then also Too, Thank you Nick. You're never, there's no chat gt. We can prompt. You're like, you know, like, let's, like tell us about something. There's not a single one of these AI that will be, that's just gonna respond with a picture of itself staring at its phone or vaping and paying attention To you. Yeah, Yeah, yeah. That's the, the lack of interest in charisma that Adam has is Entirely natural. A lot of charisma. And eventually that's, I would, okay, now, now you're People are gonna watch this. You're like, no, Now you're, I I read, I oh my god. A Mr. Charisma. I mean, people just, You think you're Mr. Charisma. I walk into a party and people just turn to the door and they're like, this guy, like, Nick Could replace you with A gecko. No, that's not true at all. You would love that. That's not true at All. In the chair. Adam Adam literally the only person that can host this show. Nobody understands. I know what I'm doing. Listen, he has a vision and I know he is saying it for a goof. That is because I'm such a tragically untalented. Awful. I mean, tragically I think it is kind of Tragic. I think your mic's pointing in the wrong direction too now. So your levels are probably bad. Oh yeah. It's, well, Dave, can Dave, Dave should be listening. Dave can fix it. Yeah. You can fix it if you, if you'd like. Yeah, no, you can replace this guy. Not You don't think you can. No. With a woman With No, certainly not with a woman. Woman. Yeah. He's better at being a woman than any woman are. That is true. I'm like Trump. It's like Val Kilmer quote where he is like talking about how he knows how to be, because he is an actor. Like he knows how to be a fighter pilot better than a fighter pilot. Yeah. Adam. I agree. You're, You're kind of like the median human. Like you could be anybody. I stand for nothing. You Understand? Yeah, yeah, yeah. You understand every Experience. I'm a chameleon. Yeah. I'm Hope you become famous. Oh my God, I hope so too. You think you'd get me too? No, I like I never had enough confidence Yeah. To rape, To, I never had the I never had the courage. No. It was just, I, I was, I was not very sexually experienced until later in life. Like during the college gray zone, you go to College. Yeah. But I wasn't like getting it in. I was afraid of girls and afraid of having sex. Yeah. I still kind of am afraid of having, so I'm afraid. I mean, yeah. I just dunno what's in there. In the, in the com. Just In a vagina Or just in a, you're entering. I don't know. There's a lot of shit. It's revolting. It's revolting. I was, it always made me think of like, remember those old intel commercials. Yeah, Yeah, yeah, yeah. Where you're on the chip. So then Going into the chip, Into the, yeah. I mean, it's like, what if I enter them and like, you're Looking into a VCR as a kid. Yeah. I Did. Way better than looking Closest. You can get to just staring directly into a pussy. Flipping open a V or opening, like putting your fingers in there. Yeah. Glowing in it. Yeah. Yeah. That works though. You know? But The VCR's got wild shit going in there. Yeah. Because the drum, there's the drum, there's all these other things. You stick your cock in One of those in a vcr. Yeah. I would, It plays your dreams if you do that. Does It? Yeah. Yeah. That'd be cool. Yeah, That's what video drums. It's Like the not connecting to the tree. Yeah, Exactly. It's like the nav connecting to the tree. Yeah. Precisely. I just saw it yesterday. Finally. Yeah. You wanted to talk about this? Yeah. I didn't want to talk about Adam. Finally, Tell Avatar, tell me a plot of Avatar too. Adam. You said it was fire, you said. I Said I really enjoyed it. I was alone. My girlfriend was outta town. I went for a afternoon matinee. I got those hand rules at the, At Dego. Yeah. What theater do you see That I saw it in the, at the Draft house. Draft house. But I got the DeKalb market down there. They're these hand rules in the DeKalb market that are the best. It's the best. There's Neighbor place is called Dego, which is very funny. But it's right next to, It's an Italian spot, the one Near, near near our Neighborhood. Yeah. The one like that with the target and the, yeah. There's Statue Ginsburg. There's a Venezuelan place right next to her called Apapa Lady. I've been there, A Rape a Lady. I've been there. It's, I would never, Well, ve it's Venezuela. Yeah. We're gonna, what do you guys want? You go to Dego or a rappa lady. That sounds like what the Dego wants to do. It's true. Yeah. They are sexually assaulting Creatures. They are the I Travelers. One of The funniest things I've ever saw, like it was in, I, I can't remember the direct quote now, but it was in Little Italy when I was living in Chinatown, and they, you know, they have the Italian guys who stand outside and they're like, you, you look like you're fucking hungry In Barkers. And a woman walked by and this this Italian guy. He says the, you know, he's like, oh, you look so beautiful, baby. What I would do to this before? Like the cat holler back catcalling stuff. Yeah, yeah, yeah. So he says something to her this pretty forward, and then he turns to his coworker and starts saying something in Italian. And it's like, how much worse could that be? Yeah. Oh my God. What the fuck did he Just, I used, I used to work in like San Francisco. It was like a little Italy, north Beach. Yeah. Is like where the, there's like 10 Italian restaurants there. Yeah. And there's Italian flags on the poles. And I worked at a flower, a fake, it was like, owned by these gypsies, but they were just like, Salvadorian. They, but they kept up the lie with me. They told me they were gypsies. Really? And I worked next to this Italian restaurant with one of those guys, and he sold me coke. And he would, like, he sold, he'd send me like $17 bags of coke, which I would inject into my hands in the flower shop and just like, work. And you would Shoot cocaine into your hands. In my, in your hands. How do you get it? How do you get it into a liquor? Just small gauge. Oh, you just, same way you do like math or whatever. I don't know how. Shake it up. Yeah. Doesn't that like, but that like rots Your doesn't. Yeah. Oh yeah. I like, I like hurt my body a lot. Yeah. Why, why don't you just snort the Cocaine? Because it's way, when don't you start shooting things, you can't go back. Like, there's no going back. But You're not doing it. You shoot every, not now, no. You can Go back, right? Yeah. No. Goes back. Don't eat cocaine. I don't like it. It makes me, it makes me shit. It just helps you drink more beer. Yeah. It, and I don't, yeah. It made me, but it also always gimme the, I've only done good coke once I've done Coke, 1 million. I don't think there is real cocaine. I did America. I've good cocaine. Once I got, I understood what it was all about. But anyways, I would buy it from this guy. And he started telling me these like lot. He was like, yeah, I'm in the mafia, actually. It's like, oh, you're in, you're in the, the Sicilian. You'd be like, yeah, I'm in like Coosa Nostra. I'm like, you're, you're, you sell $17 bags of Coke. You're in the Sicilian Mafia. I don't think the mafia is real. I think the CIA made it up. No, mafia is real. It was real. Mafia is real in Italy, but it's Like, yeah, it was a protection racket. Well, no, it's still, Nostra is like not doing that. I think the whole thing's made up. I think all the movies are written by the State department. Oh, you think it's all fake? I think it's all fake. I Don't really, it's just trying to make Italians look cool. Well, I, because the mafia is just unfettered raw capital. Yeah, Yeah, yeah, yeah. So like, it's the perfect thing. You create a fake subculture that's just basically libertarians. Yeah. Yeah. They are ba well, it's like they're libertarian, but they also just tax you. That's the thing. Yeah. They're tax, they're like, yeah. It's Like their own, it's like they Go to people, they say, you have to pay me every month. And He was like, I get I, yeah. Shit. Otherwise I'll kill you. I'll kill you. Or like, but the thing is now is that Mean, it's, It's, you know, also too, there's people say, oh, the CIA worked with the Mouth. Yeah, yeah, Yeah. It's like, I don't think, I think they just made it up. They, they just completely, well, they kind kickstarted back like in World War ii. Yeah. They're like, we're going back. We're going to Italy. Because There was organized crime prior to that. Yeah. And that was just people doing crime. It was just violent people, you know? And then it became a business of some sorts. Well, a business that also like kills the president and hates Fidel Castro. They do. They did hate. Well, they just wanted casinos. Yeah. Yeah. You know, if that's, I think Fidel should've come to an agreement, be like, you can have a, casinos are great. Yeah. I love to gamble. And it's like, you're doing the cigar thing. You got the chest out and you don't Yeah. Imagine doing that at a casino. Incredible. Yeah. Yeah. You would look real pimp. He'd Be insane. Ovar would've never left. He would've gone and died in Bolivia. But yeah, this guy was just like, I'm in the mafia, like, blah, blah. And he would tell, tell me all these insane lies. And I would just have to sit there and listen to 'em. Cause I was like, Dude, I love That. I so much Coke. Pathological liars are the best people in the world. Incredible. They're the best. They really, and you know what's weird about pathological liars is I've, I've the, and the, the couple I've met in my life, and I mean, like, there's people that lie, like Adam lies. Adam Lies all The time. There's people that like, just like fa Fantastical lies Santos Outright. Yeah. Yes. Right. That kind of stuff. They're at least the ones I've met. They're not like, they're never like, they don't fuck you over. No. They don't do anything. They Harm you. They, they, there's nothing stood to gain from the life. Be like, I, I Actually, there's, there's no like, nefarious endeavor. I Like weed. Barack Obama. Yeah, I know. And he was like, that's so Cool. Yeah, I know. Yeah. They're just, they, It's really cool Because most stories people tell you is like, yeah, man. Like, like the train I was on, like was stuck in the like, between Brooklyn and Manhattan for an hour. It was like, I don't Care. I have the opposite problem. I just told the most boring dog shed stories to people. And I don't even know why I'm telling them He's Gotta talk. Well, I just don't know how conversation works. Yeah. Yeah. So, yeah. I love a liar. Like I, I I actually really do. Yeah, 100%. Yeah. Like, I've had people tell me some fucking, Because then you end up repeating those stories forever and then the story becomes true. It's True. Because it's something a liar told you. Yeah. So you can fucking you. It's still a story. Yeah, Yeah, yeah. They're basically like, they're, they're like mythical creatures that they're like, leprechauns, I knew, I knew. Present you with this thing where then you can go be like, yeah. So this guy said that he knew Buzz Aldrin and Bald Aldrin actually took him to the moon one. Yeah. They were drinking all the, Doug was telling Gene before the last episode that he was, that he was close friends with Roberta Flack. Roberta Flack. That was, yeah. That was, he's like, I was great friends with Roberta Flack. Yeah. And Doug, your friend Roberta Flag. I, I stayed at this hotel in Mississippi once that was owned by a guy named Rat. And he like, I, there was nothing, don't Like it. Don't like when things are nice. What? Don't you like it when things are nice and not messy? Was Being with a rat. His name was guy with Nazis around his neck. You're in your thirties now, though. Yeah. Yeah. You gotta, So you have, you like nice things. Now have a, you gotta have a nice bed now. You gotta Now bed's. Not Good mattress. I gotta a good mattress. See, I Got a good Mattress. I finally got a Mattress. You you didn't have one? No. You slept on the floor on a mat. Like a Japanese. Yeah. Yeah. Literally Futon. Yeah, Yeah, yeah. You just like, I, No, I got, I went, I got Simmons Beautyrest. How's the back? Initially, because I've been so used to the floor. You adjust To it. That I fucking, I couldn't walk. You saw me. Yeah. I like, I was in there. I like it. Fucked It fucked my back up. But after a week, you're fine. Yeah. No, Justin, now I slept, I slept on the floor. Fucking baby. Only in like, in Syria. I just slept on the floor. I got back and I couldn't sleep in a bed. Yeah. I was like, it's, I can't do it because your Hip for your hip sink. And then it fucking, like, it's restored. Like the, the curvature of my spot. Yeah. Yeah. I didn't have it. I, I was like, woo. Just Straight back, fully bad. It's probably good for you. Maybe it's not. No, I feel better. Yeah. Yeah. I feel better. But no, I, yeah. I, I, I, but I like know a lot of shitty people still. I just don't, you know, I'm not, I'm not a dirty Yacht. You were a guy, but You're saying you knew a guy named Rat? Yeah. He just told me all he, I, I like, you know, me and I, Turner used to hang out here. Yeah. Like every music, because it was like in Clarksdale. That's cool. Which is where Robert Johnson sold this soul famously To the devil. To the devil in order to play guitar better. Which is fucking retarded because you can just practice that. Yeah. You know what I mean? No. He Practice playing guitar. And back then it's like, you can just say you're the best guitar player and like, there's not that many records out. You know, like people would just be like, I get, where Were you the deep south or something? This was in Clarkdale, Mississippi. Yeah. Mississippi. Yeah. And Rat told me, like, I was like the one person I met who told me the most insane lies I've ever to, and then he pat he perished died While he was telling you a story. Several years Later you followed up. What was him? I just looked him up and he was dead. Oh yeah. That's sad. His Facebook. You looked up Rat Mississippi. We were friends on Facebook. Yeah. His name was Rat on there. Yeah. But there's a sonic now where Robert Johnson sold his soul. Really? Sonic, Like a sonic bird. Oh, oh, oh, yeah, yeah, yeah. That place. The guy, that Place really sucks. Awful sonic Dog shit. People like, people that grew up in Ohio. Fuck it. Or you know what, you know, it's people that went to college in Ohio. Yeah. They're all love Sonic. They were like, oh, what? Same Thing I gotta White Castle. White Castle. White Castle Is as, and nobody ever liked white. It was just a fucking heroin Kumar. People would tell me that when I was young. I was like, dude, where do you fucking go to the East Coast? Like White Castle. It's gross. I got out here. It sucks. Little guys. The The buns are Wet. There's too many. There's a, the Jews out here are different. It's like wet all year round. Why is it wet? It's wet in New York. New York's wet. Yeah. It is a little bombing. It's wet, but no, you know, inn out. Burger sucks. Inn out's. Okay. First of all, none of their, none of the chain burger restaurants are good. You Can just get a burger at a restaurant that'll taste better. Literally. And especially in Texas. Texas has all of these fucking like, just burger places don't get Yeah. And they're amazing. Yeah. Yeah. McDonald's Really good. Yeah. I never had a McDonald's cheeseburger. McDonald's is a good restaurant. I would get nuggets as a child. Dude. I'm, which I think is like not a, I think that means like, like that's like a little Retard. What? Oh, Is that why you Had to go to nuggets? Nuggets of great Sour sauce. I ketchup. Sour sauce. I remember one time going to McDonald's with my mom. We ordered a Happy meal and they fucked up. We paid for it. And then, I don't know, somehow they like fucked up. We got a 20 piece chicken McNugget. Incredible. And I remember my mom, my mom looking at me and just being like, Let's just leave. Let's go. And then we left. And I had, I ate 20 chicken McNuggets in one sitting while watching Beverly Hills 9 0 2 1. Yeah. I remember there was something. Now they, you know, they only sell 'em in 20 bees now. Really? Yeah. Wow. They don't do six, I think it's just literally Only 20. This is the old school kind too. Before this like white meat shit. When it was just a sponge. It Sponge pink Slime. Yeah. He just Looks good. The pink slime. You shouldn't, they shouldn't try to make that healthy. Very good. You know what I mean? Yeah. They shouldn't do. Certainly shouldn't have been. And this is a California thing where they put the fucking calorie counts on every menu. I, I know it's Bad for me. Yeah. Okay. Yeah. No, I'm at McDonald's. You need it. What am I gonna like get under order the salad here? No, it's retarded. I'm not. It's very funny that McDonald's even attempted salads. Do they still have that? They do. I They Have those gray salads. Yeah. Yeah. Just I honest. Gimme a salad anywhere but a dedicated salad place. You're really playing with fire. Yeah. It's just gonna be disgusting. It's gonna be some olives on some like one chopped up fucking piece of hard lettuce. And the most disgusting amount of fucking the Best is the pancakes. The McDonald pancakes. You get those for your son that you're Before You. That is, that is a, that is a single parent. The pancakes Menu. Write 'em breakfast at McDonald's is quick. My parents never did that. Oh, No. Breakfast at McDonald's is like, makes me feel like a, when I get it now I'm like, you're, you're a good boy and you deserve the really? Yeah. It feels like a treat. Yeah. But it used to be, it used to be dog shit before, before the McGriddles. That's the, I can't eat McGriddles. Why? It makes my face feel sticky. It's, It's the, we're Gonna have to wrap This up all. Let's why you the Face? We're gonna have to wrap this up. I can't believe this. You can't eat McGriddles. You can't eat it because you're militant vegan though. You're vegan Now. I am vegan. How long you been doing that? I don't know. I think maybe since A while. I think. Yeah. Almost a year. You know what I'm doing now? What year? Just red meat. May, may is When it started. Just red meat. Just red meat. Oh, like conservatives guy style. Yeah. I'm gonna go, I'm going on that. I got a friend who's on the conservative Diet. Is it working for them? You know what I found is, I don't know, veganism actually helps with the gym because like, you have to eat enough carbs and it's like, I, I feel like I used to have the opposite problems. I'd focus so much on getting like the right amount. Protein, protein, protein. Yeah. That I was so full from that, that I wouldn't get enough carbs. And now, because all the vegan protein just has a shit ton of carbohydrates in it. It's like much easier to Carbs are energy bro. Yeah, Yeah. Yeah. Are They? Yeah. I never really knew what a carbohydrate was. I don't know. Shit. I don't, I don't really even get what protein I found out recently. You're supposed to eat a ton of protein. I had no idea. I don't think you actually have to. You don't have to. No. Oh, then I, I give up then. Yeah. I mean, I don't know if you're like going, if you're like trying to gain muscle, have To eat. It's probably not. That's a little, that shit is sailed for me. Yeah, yeah, yeah. You know, I, that's, if you buy a gun, you don't need to get muscles. Yeah. Like, Well the benefit of having muscles is it's not like to protect yourself. It's that if you put on muscle masks, then you don't have to worry about getting fat. Cause the muscles burn. Then you can eat as much as you want. Really? Yeah. If you put on, if you put on fucking like 10 pounds of muscles. Are there Both fat guys? Yeah. Yeah. There's about fat guys. But the more like, you wanna avoid being skinny fat cuz that's like the least healthy Option. Yeah. Yeah, yeah, yeah, yeah. Yeah. You want to get like, and You get fat as shit eating fucking 2,500 calories a day. Is that cause you Don't have, because your, your body's a Macy, you don't have any muscle mass on This until you just dying. Yeah. Yeah. I mean if you wanna look like a TV writer Sure. Yeah. Yeah. Go that route. Yeah. Yeah. That is the TV writer about it. Yeah, definitely. It's Crazy guy. Just A guy in a sweater. Yeah. Yeah. Went to Harvard. Why do they go there? Because I never met a TV when I lived in LA I met people who wrote for tv. That's horrible. It seems. What do you mean? It just, just seems like a bad, like I would, it's just where do you go from there? You Know? You just write more television. Just write more tv. Do You write? Yeah. There are a lot of shows. Yeah, There's a lot. But like, is it, it just seems none of 'em seem happy. Yeah. They're not happy to me. And that seems to be an Important part. But it's not that they're not happy in the position that they're in. They're Just not Happy. Yeah. They're just Yeah. People that just, you know, they're not performers. Yeah. They, they're comedy writers. So, but that seems weird. I guess it is weird. But I mean, they're, they're happy in their own, I mean, they're people, so They're people. They get to go to the Emmys sometimes. They do. Yeah. That's Funny. Always. I thought it was funny that they have to wear a little suit. You have to wear a little suit to those award shows. It's, I feel like now you get away with some little like, you know, like joke. It would be funny to go to the Emmy's as a TV writer and try to be like just a hit on their concert. Just Grand for the good place. You went for Rick and Morty and you got Fucking just a peace sign around your dick. Yeah. You're wearing a fucking like harness. Like a, you're trying to redefine masculinity. I would go as a caveman. Yeah. Yeah. Like it's like a little fur thing around here. Big bone with Me. The south part guys went on acid. Yeah, they cross dress And they cross dress. That's pretty cool. That was crazy back then. Yeah. Unless they did that recently. No, they did that like the year after JLo was, oh, we Gotta talk about Ian Finance real quick. The the the social media wrap up for the episode. Ian Finance going viral. Are you explained this to me? Yeah. I told you on the phone. Right? You Told me on the phone about this Beautiful Joe stands by you Identified as, what did he say? I dunno. He just said he posted a clip like every comedian has to now. Yeah. I shouldn't do that. And it's, but I don't, I there's people hidden on Ian. I can't, I don't understand it. I don't understand. You can Hate on I, he said communism is something He made a book. He goes yeah, Book. What book is He doesn't know anything. That's why these people, the fact that it makes people upset, He's adorable. There he, his little principle Skinner outfit. How don't you get mad for some reason? What, Why don't you get mad At that? I don't know. Because it's because it's Twitter. And so now everyone on Twitter's a communist, which is like, do any of these people stop? And isn't That, that's silly. Read The words they're saying out loud. Like, do you not understand how fucking like gay you sound Why I mean about communism? It's like, well, it's short Man. Yeah. I It's not like you, like it's really a lot of people on Twitter have deluded themselves into thinking they have some kind of dangerous position by being by Yeah. By quoting like rage against a machine Lyrics on fucking Twitter. I Think it's awesome. Your 12 year Old. It's awesome when people are stupid. I love it. My friend, my friend told me, Almost everyone I know is a fucking including Me. My friend from high school told me he couldn't send his kids to public school because they make them trans now. And I'm like, that's awesome. I know someone that thinks that kind Of thing. Yeah. Yeah. Ross, haven't you had coworkers Ross? Right. I had a coworker at my last job who brought me into the locker room. We had like a locker room where we, well You could say that. You say, oh well it's just children. It's just children. They're like, we have to change the world. Yeah. It's like, and and I like, But then it's not, you look at it and it's like a 40 year old man. You shouldn't be on the internet at that age anyways. But you know, he's like, these wildfires, Well, what are you gonna do? You need more as you get older. It's kinda like, I'm fucking, what is I, I, I'm paraphrasing, but why am I blanking here? The what comic that overdosed he was on Tough Crowd. Know this. Greg Giraldo. Yes. God damnit. Fuck. Sorry. But you know his, his bit about like substance abuse in your forties. Yeah. He's like, that's when you really need it. Yeah. You know, like you really want to, I blew it as much as I as a teenager, I thought I wanted to die. You really don't until you're fucking, you know, I Didn't mean Oxycontin when I was 19, right? Yeah. I need Oxycontin now. But that's, that's really, you can say, oh, you shouldn't be on the internet in your forties. But those, that's who need. Yeah. Yeah. That's why face, like Facebook is like, it was this like, like they were probably panicking in Facebook cuz you know the trajectory of MySpace. Yeah. So Facebook's blowing up and even up to Zuckerberg, they had to been like, how can we not let that happen? That's why they buy on Instagram. They were like, what do kids want? What do kids Want? What do people, Yeah. And then this magical thing happens where old people discover Facebook and they're on there just saying, Barack Obama got his dicks sucked while smoking crack Cocaine. And it's like they left him alone and they're just like going Love it. Yeah. It's like perfect. My dad's on Facebook. Yeah. You know, he's using it. Yeah. Talking. I mean, he's not saying that, but like he's talking to his old friends on there and shit. Yeah. Yeah. And those people spend money On the internet. That's who the internet should be for outside. Should be for Children. Yeah. Yeah. Well remember it used to be about like publicly fighting with a friend of yours for being like fake. Like fake. Yeah. Fake. Yeah. That's what it should be for. It should be about like people in your real life. Not about like, oh, Ian Finance, who I heard on a podcast once has the wrong opinion about communism. I mean, once, now that I'm like off Twitter, like when you get a, you understand what it is from the outside. It is a deeply lame place. Same. Same. I I I don't, I deleted mine. I used the true one sometimes. But like, she Never looked At, seen the amount of people when Elon took the website over that. It's like, heads up everyone. The website's shutting down tomorrow Morning. Yeah. Yeah. Like switching oc fucking Like this site Changed my, changed my life. Dude. What? Kill yourself. It. Well the thing is it probably did ch I I, my thing is I think it does change people's lives and it just like makes it appreciably worse. There's nobody, it was ever gone to social media. Right. And like had a better outcome. No. Like there's nothing. If you just spent that time doing any, they can Help your career for doing other shit. That could be augmented by social Media. I mean we're, we Have to post things. We have to post things for our careers. Yeah. But if You're online, I don't have to do that. That If you're online and you're not making money from it, like you should figure, find another thing. Exactly. My thing is, is like, you know, like if you hold what is objectively an unpopular political position, you can't get mad if someone like it, it points that out. Yeah. You know what I mean? Can does a fuck. Some comic is like, you know, communism or whatever sucks. It's like, well everyone else, you know, in your life except like the fringe haircut, people you hang out with or like your coworkers in the vintage store. Yeah. Also thinks that every person you pass by on the train thinks that too. It's like, It's, it's, it's like if you talk to like a, a fucking Italian guy who's telling you you're in the, he's in the mafia. It's way better than like talking to these guys. I love every human being on planet Earth because they all have the most retarded shit to say. That's the best stuff. Exactly. I asked my friend, he's like, I don't wanna send my kids to public school. Cause they, they make them trans. And I was like, that's so funny. That's so funny. And he was like, what do you mean? I was like, you think that That's crazy. That's crazy. He thinks that, okay. I I You're 20 minutes late for your dinner. Your, your male Date. That's Yeah. I'm supposed To you dinner with a guy Day with the guy trying It. That's crazy. My girlfriend's, you Should try to fuck around with guys at this. Dude. It would be so pathetic. It would be so pathetic. Just as a Just be like, Hey, what's up? This is Lloyd. Lloyd. We're like, it's Like a, just a guy in overalls with a, with a pinhead. How old are you? 35. Having a situation show. That's a word I just learned. And Which is situation. I think it's just where you're hooking up with somebody. They call that a situation. They call that that now. And like the cut, whatever it is they call Listen is not competition. This is, this isn't, it's not my world. I'm just looking at it. Right. Yeah, yeah, yeah. But if you started hooking up with just like a guy, I Think that would be a good rebrand for you. You're sensitive. I think I Gotta No, but they're, they're the, they what do you mean they're having sex for sport? Yeah. They're like my refractory period. It's, oh my, I can only handle girls. Yeah. Like they're like, They don't, they don't really Wanna do it. No, no. And I like that. I like that they just, you know, I don't know, they're, it's just nice to be around girls. You should get A boyfriend Girl. What? You should have a boyfriend. I'll ask my, You should have a boyfriend for, ask her if you can get, you don't have to like fuck him that much. Like you guys could just like get to like the, like lesbians don't have sex. Well they can't physically Just Adam coming home. Listen. Being like I'm trying something new for the show. Yeah. Hey, like this is Lloyd. Yeah. He's cool. Are most See You later? Fucking Seven feet. Seven three. Pinhead. I say the giant. Giant. Overall Big. Overall. Mentally just giant. Just retarded. Just mentally. What do you think you'd be disabled? Yeah, probably. Probably one that everyone respects too. Do You think you'd be like the, you'd be like the top Of the alpha at the pack? Yeah. I Imagine him as like Krang in, in Teenage Ninja Turtle. Oh yeah, yeah, yeah. Would be just be placed on the guy's dick with his little gooey body. Just being like a baby. I could See you being like a kept man. Like I could see you being like sort of a, do You know what Mite is? I would do it for like a woman that is way more successful than me. Yeah. I'd be a house husband. Like that guy Doug. Who's Camal? Kamalas that Guy. Yeah. I'm like that guy with Doug. That guy. That guy's got the right idea. Yeah. Yeah. He gets to just stay in a nice house and stuff. Yeah. Vice president, She, he doesn't have to see her that much cuz she has to go places. Yeah. Yeah. Everyone doesn't really like her that much, so he's like, I Support you. Yeah. You're nice. I like you. Yeah. I still like you. You think They fight Doug? Yeah. She's probably so mean to him. We gotta go. All right guys.\""
      ]
     },
     "execution_count": 65,
     "metadata": {},
     "output_type": "execute_result"
    }
   ],
   "source": [
    "new_df['sentences'][len(new_df)-1]"
   ]
  },
  {
   "cell_type": "code",
   "execution_count": 66,
   "metadata": {},
   "outputs": [],
   "source": [
    "new_df.to_csv('clean.csv', index=False)"
   ]
  },
  {
   "cell_type": "code",
   "execution_count": null,
   "metadata": {},
   "outputs": [],
   "source": []
  },
  {
   "cell_type": "code",
   "execution_count": null,
   "metadata": {},
   "outputs": [],
   "source": []
  },
  {
   "cell_type": "markdown",
   "metadata": {},
   "source": []
  },
  {
   "cell_type": "code",
   "execution_count": null,
   "metadata": {},
   "outputs": [],
   "source": []
  }
 ],
 "metadata": {
  "kernelspec": {
   "display_name": "Python 3",
   "language": "python",
   "name": "python3"
  },
  "language_info": {
   "codemirror_mode": {
    "name": "ipython",
    "version": 3
   },
   "file_extension": ".py",
   "mimetype": "text/x-python",
   "name": "python",
   "nbconvert_exporter": "python",
   "pygments_lexer": "ipython3",
   "version": "3.9.6"
  },
  "orig_nbformat": 4
 },
 "nbformat": 4,
 "nbformat_minor": 2
}
