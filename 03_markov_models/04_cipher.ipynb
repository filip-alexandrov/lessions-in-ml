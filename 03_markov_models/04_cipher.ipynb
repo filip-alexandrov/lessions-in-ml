{
 "cells": [
  {
   "cell_type": "code",
   "execution_count": 61,
   "metadata": {},
   "outputs": [],
   "source": [
    "import numpy as np \n",
    "import matplotlib.pyplot as plt \n",
    "\n",
    "import string\n",
    "import random \n",
    "import re \n",
    "import requests \n",
    "import os \n",
    "import textwrap"
   ]
  },
  {
   "cell_type": "code",
   "execution_count": 62,
   "metadata": {},
   "outputs": [],
   "source": [
    "# create substitution cipher \n",
    "# one will act as the key, other as the value \n",
    "letters1 = list(string.ascii_lowercase) \n",
    "letters2 = list(string.ascii_lowercase) \n",
    "\n",
    "true_mappings = {}\n",
    "\n",
    "# suffle second set of letters\n",
    "random.shuffle(letters2) \n",
    "\n",
    "# populate map, true_mapping is only accessible to sender and receiver\n",
    "for k, v in zip(letters1, letters2): \n",
    "    true_mappings[k] = v "
   ]
  },
  {
   "cell_type": "code",
   "execution_count": 63,
   "metadata": {},
   "outputs": [],
   "source": [
    "# the language model \n",
    "# initialize Markov matrix \n",
    "M = np.ones((26, 26))\n",
    "\n",
    "# initial state distribution \n",
    "pi = np.zeros(26) \n",
    "\n",
    "# a function to update the Markov matrix \n",
    "def update_transition(ch1, ch2): \n",
    "    # ord('a') = 97, ord('b') = 98, ascii encodings\n",
    "    i = ord(ch1) - 97\n",
    "    j = ord(ch2) - 97\n",
    "    M[i, j] += 1\n",
    "\n",
    "# function to update the initial state distribution \n",
    "def update_pi(ch): \n",
    "    i = ord(ch) - 97 \n",
    "    pi[i] += 1 \n",
    "\n",
    "# get the log-probability of a word\n",
    "def get_word_prob(word): \n",
    "    # first letter\n",
    "    i = ord(word[0]) - 97\n",
    "\n",
    "    # get probability of the first letter\n",
    "    logp = np.log(pi[i])\n",
    "\n",
    "    # get probabilities of bigrams \n",
    "    for ch in word[1:]: \n",
    "        j = ord(ch) - 97\n",
    "        logp += np.log(M[i, j]) # update prob\n",
    "\n",
    "        # for next inter, increment current last word pointer to current word\n",
    "        # because the probability only depends on the last word\n",
    "        i = j\n",
    "    \n",
    "    return logp \n",
    "\n",
    "# get probability of sentence \n",
    "def get_sequence_prob(words): \n",
    "    # if iinput is a string, split into an array of tokens \n",
    "    if type(words) == str: \n",
    "        words = words.split() \n",
    "\n",
    "    logp = 0 \n",
    "    for word in words: \n",
    "        logp += get_word_prob(word) \n",
    "\n",
    "    return logp "
   ]
  },
  {
   "cell_type": "code",
   "execution_count": 64,
   "metadata": {},
   "outputs": [],
   "source": [
    "# create a markov model based on an English dataset \n",
    "\n",
    "# download the file \n",
    "if not os.path.exists(\"./data/moby_dick.txt\"): \n",
    "    print(\"Downloading moby dick...\")\n",
    "    r = requests.get('https://lazyprogrammer.me/course_files/moby_dick.txt')\n",
    "    with open(\"./data/moby_dick.txt\", \"w\") as f: \n",
    "        f.write(r.content.decode()) "
   ]
  },
  {
   "cell_type": "code",
   "execution_count": 65,
   "metadata": {},
   "outputs": [],
   "source": [
    "# for replacing non-alpha characters\n",
    "regex = re.compile(\"[^a-zA-Z]\")\n",
    "\n",
    "# load in words \n",
    "for line in open(\"./data/moby_dick.txt\"): \n",
    "    line = line.rstrip() \n",
    "\n",
    "    # there are blank lines in the file \n",
    "    if line: \n",
    "        # replace all non-alpha chars with space \n",
    "        line = regex.sub(' ', line)\n",
    "\n",
    "        # split the tokens in the line and lowercase \n",
    "        tokens = line.lower().split() \n",
    "\n",
    "        for token in tokens: \n",
    "            # update the model \n",
    "            # first letter\n",
    "            ch0 = token[0]\n",
    "            update_pi(ch0) \n",
    "\n",
    "            # other letters \n",
    "            for ch1 in token[1:]: \n",
    "                update_transition(ch0, ch1) \n",
    "                ch0 = ch1\n",
    "            \n",
    "# normalize the probabilities, since now they are counts \n",
    "pi /= pi.sum() \n",
    "M  /= M.sum(axis=1, keepdims=True)\n"
   ]
  },
  {
   "cell_type": "code",
   "execution_count": 66,
   "metadata": {},
   "outputs": [
    {
     "data": {
      "text/plain": [
       "array([0.10945403, 0.05200697, 0.03898427, 0.02712131, 0.01824855,\n",
       "       0.03850453, 0.01632961, 0.06393979, 0.06720943, 0.00390774])"
      ]
     },
     "execution_count": 66,
     "metadata": {},
     "output_type": "execute_result"
    }
   ],
   "source": [
    "# letters from a to z\n",
    "pi[:10]"
   ]
  },
  {
   "cell_type": "code",
   "execution_count": 97,
   "metadata": {},
   "outputs": [],
   "source": [
    "# encode a message\n",
    "\n",
    "# random excerpt from adventures of sherlock holmes\n",
    "original_message = '''Alice woke up early on a beautiful Sunday morning, feeling refreshed and full of energy. She decided to take a walk in the nearby park and enjoy the fresh air and sunshine. As she strolled along the path, she saw a group of children playing frisbee and laughing together. She couldn't help but smile at their carefree joy.\n",
    "\n",
    "Further down the path, she encountered an old couple sitting on a bench, holding hands and looking out at the lake. They had been married for over sixty years and were still deeply in love. Alice felt a warm feeling of happiness in her heart, knowing that true love could last a lifetime.\n",
    "\n",
    "As she continued her walk, Alice came across a group of volunteers cleaning up the park. They were picking up litter, planting flowers, and generally making the park a better place for everyone to enjoy. Alice was inspired by their dedication and decided to join in, lending a hand to make a positive impact on her community.\n",
    "\n",
    "After a few hours of volunteering, Alice headed back home, feeling tired but fulfilled. She spent the rest of the day relaxing with a good book and reflecting on the simple joys of life. She realized that happiness could be found in the small things, like a walk in the park, the laughter of children, and the kindness of strangers.\n",
    "\n",
    "\n",
    "\n",
    "\n",
    "'''"
   ]
  },
  {
   "cell_type": "code",
   "execution_count": 98,
   "metadata": {},
   "outputs": [],
   "source": [
    "def encode_message(msg): \n",
    "    msg = msg.lower() \n",
    "\n",
    "    # replace non-alpha characters\n",
    "    msg = regex.sub(' ', msg) \n",
    "\n",
    "    # make the encoded message \n",
    "    coded_msg = [] \n",
    "    for ch in msg: \n",
    "        # may be a whitespace (not encoded)\n",
    "        coded_ch = ch \n",
    "\n",
    "        # encode if its in the cipher\n",
    "        if ch in true_mappings: \n",
    "            coded_ch = true_mappings[ch]\n",
    "            \n",
    "        coded_msg.append(coded_ch) \n",
    "    \n",
    "    return ''.join(coded_msg) "
   ]
  },
  {
   "cell_type": "code",
   "execution_count": 99,
   "metadata": {},
   "outputs": [
    {
     "data": {
      "text/plain": [
       "'augfp evtp on paduk vh a qpaoigcou sohmak yvdhghw  cppughw dpcdpszpm ahm couu vc phpdwk  szp mpfgmpm iv iatp a eaut gh izp hpadqk nadt ahm phbvk izp cdpsz agd ahm sohszghp  as szp sidvuupm auvhw izp naiz  szp sae a wdvon vc fzgumdph nuakghw cdgsqpp ahm uaowzghw ivwpizpd  szp fvoumh i zpun qoi sygup ai izpgd fadpcdpp bvk   codizpd mveh izp naiz  szp phfvohipdpm ah vum fvonup sgiighw vh a qphfz  zvumghw zahms ahm uvvtghw voi ai izp uatp  izpk zam qpph yaddgpm cvd vrpd sgxik kpads ahm epdp siguu mppnuk gh uvrp  augfp cpui a eady cppughw vc zannghpss gh zpd zpadi  thveghw izai idop uvrp fvoum uasi a ugcpigyp   as szp fvhighopm zpd eaut  augfp fayp afdvss a wdvon vc rvuohippds fupahghw on izp nadt  izpk epdp ngftghw on ugiipd  nuahighw cuvepds  ahm wphpdauuk yatghw izp nadt a qpiipd nuafp cvd prpdkvhp iv phbvk  augfp eas ghsngdpm qk izpgd mpmgfaigvh ahm mpfgmpm iv bvgh gh  uphmghw a zahm iv yatp a nvsgigrp gynafi vh zpd fvyyohgik   acipd a cpe zvods vc rvuohippdghw  augfp zpampm qaft zvyp  cppughw igdpm qoi coucguupm  szp snphi izp dpsi vc izp mak dpuaxghw egiz a wvvm qvvt ahm dpcupfighw vh izp sgynup bvks vc ugcp  szp dpaugjpm izai zannghpss fvoum qp cvohm gh izp syauu izghws  ugtp a eaut gh izp nadt  izp uaowzipd vc fzgumdph  ahm izp tghmhpss vc sidahwpds      '"
      ]
     },
     "execution_count": 99,
     "metadata": {},
     "output_type": "execute_result"
    }
   ],
   "source": [
    "encoded_message = encode_message(original_message) \n",
    "encoded_message"
   ]
  },
  {
   "cell_type": "code",
   "execution_count": 100,
   "metadata": {},
   "outputs": [],
   "source": [
    "def decode_message(msg, word_map): \n",
    "    decoded_msg = [] \n",
    "    for ch in msg: \n",
    "        decoded_ch = ch \n",
    "        if ch in word_map: \n",
    "            decoded_ch = word_map[ch]\n",
    "        decoded_msg.append(decoded_ch) \n",
    "    return ''.join(decoded_msg)"
   ]
  },
  {
   "cell_type": "code",
   "execution_count": 101,
   "metadata": {},
   "outputs": [],
   "source": [
    "# run an evolutionary algorith to decode the message\n",
    "\n",
    "dna_pool = []\n",
    "for _ in range(20): \n",
    "    dna = list(string.ascii_lowercase) \n",
    "    random.shuffle(dna) \n",
    "    dna_pool.append(dna) "
   ]
  },
  {
   "cell_type": "code",
   "execution_count": 102,
   "metadata": {},
   "outputs": [],
   "source": [
    "def evolve_offspring(dna_pool, n_children): \n",
    "    # make n_children per offspring \n",
    "    offspring = []\n",
    "\n",
    "    for dna in dna_pool: \n",
    "        for _ in range(n_children): \n",
    "            # copy the whole letter sequence\n",
    "            copy = dna.copy()\n",
    "\n",
    "            j = np.random.randint(len(copy))\n",
    "            k = np.random.randint(len(copy))\n",
    "\n",
    "            # switch 2 chars\n",
    "            tmp = copy[j]\n",
    "            copy[j] = copy[k]\n",
    "            copy[k] = tmp \n",
    "            offspring.append(copy)\n",
    "    \n",
    "    # final population \n",
    "    return offspring + dna_pool"
   ]
  },
  {
   "cell_type": "code",
   "execution_count": 103,
   "metadata": {},
   "outputs": [
    {
     "name": "stdout",
     "output_type": "stream",
     "text": [
      "iter:  0  score:  -5476.108263592851  best so far:  -4655.642759559595\n",
      "iter:  200  score:  -2734.459388901364  best so far:  -2492.198153645499\n",
      "iter:  400  score:  -2688.7512392276535  best so far:  -2412.031782268528\n",
      "iter:  600  score:  -2679.2210451714163  best so far:  -2412.031782268528\n",
      "iter:  800  score:  -2683.081620505977  best so far:  -2412.031782268528\n"
     ]
    }
   ],
   "source": [
    "num_iters = 1000\n",
    "scores = np.zeros(num_iters) \n",
    "best_dna = None\n",
    "best_map = None\n",
    "best_score = float('-inf')\n",
    "\n",
    "for i in range(num_iters): \n",
    "    if i > 0: \n",
    "        # get offspring from the current dna pool \n",
    "        dna_pool = evolve_offspring(dna_pool, 3) \n",
    "    \n",
    "    # calculate score for each dna \n",
    "    dna2score = {}\n",
    "    for dna in dna_pool: \n",
    "        # populate map \n",
    "        current_map = {}\n",
    "        for k, v in zip(letters1, dna): \n",
    "            current_map[k] = v \n",
    "        \n",
    "        decoded_message = decode_message(encoded_message, current_map) \n",
    "        score = get_sequence_prob(decoded_message) \n",
    "\n",
    "        # store it \n",
    "        # needs to be a string to be a dict key \n",
    "        dna2score[''.join(dna)] = score\n",
    "\n",
    "        # record the best so far \n",
    "        if score > best_score: \n",
    "            best_dna = dna\n",
    "            best_map = current_map\n",
    "            best_score = score\n",
    "    \n",
    "    # average score for this generation \n",
    "    scores[i] = np.mean(list(dna2score.values()))\n",
    "\n",
    "    # keep the best 5 dna\n",
    "    # also turn them back into list of single chars\n",
    "    sorted_dna = sorted(dna2score.items(), key=lambda x: x[1], reverse = True)\n",
    "\n",
    "    # keep top 5 best dna sequences\n",
    "    dna_pool = [list(k) for k, v in sorted_dna[:5]]\n",
    "\n",
    "    if i % 200 == 0: \n",
    "        print('iter: ', i, \" score: \", scores[i], \" best so far: \", best_score)\n"
   ]
  },
  {
   "cell_type": "code",
   "execution_count": 104,
   "metadata": {},
   "outputs": [
    {
     "name": "stdout",
     "output_type": "stream",
     "text": [
      "Log Likelyhood of decoded message: -2412.031782268528\n",
      "Log Likelyhood of true message: -2412.031782268528\n"
     ]
    }
   ],
   "source": [
    "# use best score \n",
    "decoded_message = decode_message(encoded_message, best_map) \n",
    "\n",
    "print(\"Log Likelyhood of decoded message:\", get_sequence_prob(decoded_message))\n",
    "print(\"Log Likelyhood of true message:\", get_sequence_prob(regex.sub(' ', original_message.lower())))\n",
    "\n",
    "# which letters are wrong?\n",
    "for true, v in true_mappings.items(): \n",
    "    pred = best_map[v] \n",
    "    if true != pred: \n",
    "        print(\"true: %s, pred: %s\" % (true, pred))"
   ]
  },
  {
   "cell_type": "code",
   "execution_count": 105,
   "metadata": {},
   "outputs": [
    {
     "name": "stdout",
     "output_type": "stream",
     "text": [
      "Decoded message \n",
      " alice woke up early on a beautiful sunday morning  feeling refreshed and full of energy  she decided to take a walk in the nearby park and enjoy the fresh air and sunshine  as she strolled along the path  she saw a group of children playing frisbee and laughing together  she couldn t help but smile at their carefree joy   further down the path  she encountered an old couple sitting on a bench  holding hands and looking out at the lake  they had been married for over sixty years and were still deeply in love  alice felt a warm feeling of happiness in her heart  knowing that true love could last a lifetime   as she continued her walk  alice came across a group of volunteers cleaning up the park  they were picking up litter  planting flowers  and generally making the park a better place for everyone to enjoy  alice was inspired by their dedication and decided to join in  lending a hand to make a positive impact on her community   after a few hours of volunteering  alice headed back home  feeling tired but fulfilled  she spent the rest of the day relaxing with a good book and reflecting on the simple joys of life  she realized that happiness could be found in the small things  like a walk in the park  the laughter of children  and the kindness of strangers      \n"
     ]
    }
   ],
   "source": [
    "# print the final decoded message \n",
    "print(\"Decoded message \\n\", decoded_message)"
   ]
  },
  {
   "cell_type": "code",
   "execution_count": 106,
   "metadata": {},
   "outputs": [
    {
     "data": {
      "image/png": "[encoded data removed]",
      "text/plain": [
       "<Figure size 640x480 with 1 Axes>"
      ]
     },
     "metadata": {},
     "output_type": "display_data"
    }
   ],
   "source": [
    "plt.plot(scores) \n",
    "plt.show() "
   ]
  }
 ],
 "metadata": {
  "kernelspec": {
   "display_name": "Python 3",
   "language": "python",
   "name": "python3"
  },
  "language_info": {
   "codemirror_mode": {
    "name": "ipython",
    "version": 3
   },
   "file_extension": ".py",
   "mimetype": "text/x-python",
   "name": "python",
   "nbconvert_exporter": "python",
   "pygments_lexer": "ipython3",
   "version": "3.9.6"
  },
  "orig_nbformat": 4,
  "vscode": {
   "interpreter": {
    "hash": "31f2aee4e71d21fbe5cf8b01ff0e069b9275f58929596ceb00d14d90e3e16cd6"
   }
  }
 },
 "nbformat": 4,
 "nbformat_minor": 2
}
