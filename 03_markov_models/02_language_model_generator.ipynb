{
 "cells": [
  {
   "cell_type": "code",
   "execution_count": 1,
   "metadata": {},
   "outputs": [],
   "source": [
    "import numpy as np \n",
    "import string\n",
    "\n",
    "np.random.seed(1234)"
   ]
  },
  {
   "cell_type": "code",
   "execution_count": 2,
   "metadata": {},
   "outputs": [],
   "source": [
    "initial = {} # start of a phrase \n",
    "first_order = {} # second word only \n",
    "second_order = {}"
   ]
  },
  {
   "cell_type": "code",
   "execution_count": 3,
   "metadata": {},
   "outputs": [],
   "source": [
    "def remove_punctuation(s): \n",
    "    return s.translate(str.maketrans('', '', string.punctuation))"
   ]
  },
  {
   "cell_type": "code",
   "execution_count": 4,
   "metadata": {},
   "outputs": [
    {
     "name": "stdout",
     "output_type": "stream",
     "text": [
      "File ‘./data/robert_frost.txt’ already there; not retrieving.\n",
      "\n"
     ]
    }
   ],
   "source": [
    "!wget -P ./data/ -nc https://raw.githubusercontent.com/lazyprogrammer/machine_learning_examples/master/hmm_class/robert_frost.txt"
   ]
  },
  {
   "cell_type": "code",
   "execution_count": 5,
   "metadata": {},
   "outputs": [],
   "source": [
    "def add2dict(d, k, v): \n",
    "    if k not in d: \n",
    "        d[k] = []\n",
    "    d[k].append(v)\n"
   ]
  },
  {
   "cell_type": "code",
   "execution_count": 6,
   "metadata": {},
   "outputs": [],
   "source": [
    "for line in open('./data/robert_frost.txt'): \n",
    "    tokens = remove_punctuation(line.rstrip().lower()).split()\n",
    "\n",
    "    T = len(tokens) \n",
    "    for i in range(T): \n",
    "        t = tokens[i]\n",
    "        if i == 0: \n",
    "            # measure the distribution of the first word \n",
    "            initial[t] = initial.get(t, 0) + 1\n",
    "        else: \n",
    "            # prev word\n",
    "            t_1 = tokens[i-1]\n",
    "\n",
    "            # last word in the line \n",
    "            if i == T - 1: \n",
    "                # measure probability of ending the line with this word\n",
    "                # add 2 word combination leading to end of the line in the dict\n",
    "                add2dict(second_order, (t_1, t), 'END')\n",
    "\n",
    "            if i == 1: \n",
    "                # measure distribution of the word being in a second place\n",
    "                add2dict(first_order, t_1, t) \n",
    "\n",
    "            else: \n",
    "                # word is preceeded by 2 more words and sequence doesnt end with it\n",
    "                # key = prev 2 words, value = current word\n",
    "                t_2 = tokens[i-2]\n",
    "                add2dict(second_order, (t_2, t_1), t)\n"
   ]
  },
  {
   "cell_type": "code",
   "execution_count": 7,
   "metadata": {},
   "outputs": [],
   "source": [
    "# normalize the distributions \n",
    "initial_total = sum(initial.values()) \n",
    "for t, c in initial.items(): \n",
    "    initial[t] = c / initial_total"
   ]
  },
  {
   "cell_type": "code",
   "execution_count": 9,
   "metadata": {},
   "outputs": [],
   "source": [
    "# convert [cat, cat, cat, dog, dog, dog, dog, mouse...]\n",
    "# into {cat: 0.5, dog: 0.4, mouse: 0.1}\n",
    "\n",
    "def list2pdict(ts): \n",
    "    #turn each list of possibilities into a dictionary of probabilities\n",
    "    d = {}\n",
    "    n = len(ts) \n",
    "    for t in ts: \n",
    "        d[t] = d.get(t, 0.) + 1\n",
    "    for t, c in d.items(): \n",
    "        d[t] = c / n\n",
    "    return d"
   ]
  },
  {
   "cell_type": "code",
   "execution_count": 10,
   "metadata": {},
   "outputs": [],
   "source": [
    "# ts is array of items that follow t_1, can be repeating \n",
    "for t_1, ts in first_order.items():\n",
    "    # replace list with dictionary of probabilities \n",
    "    first_order[t_1] = list2pdict(ts)  "
   ]
  },
  {
   "cell_type": "code",
   "execution_count": 11,
   "metadata": {},
   "outputs": [],
   "source": [
    "# here k is combination of 2 words, set\n",
    "for k, ts in second_order.items(): \n",
    "    second_order[k] = list2pdict(ts)"
   ]
  },
  {
   "cell_type": "code",
   "execution_count": 12,
   "metadata": {},
   "outputs": [],
   "source": [
    "def sample_word(d): \n",
    "    # random filter, the first word above this will be returned\n",
    "    p0 = np.random.random() \n",
    "\n",
    "    # print \"p0:\", p0\n",
    "    cumulative = 0 \n",
    "    # loop through each item of the dict, t is the item, p is its probability\n",
    "    for t, p in d.items(): \n",
    "        cumulative += p\n",
    "        if p0 < cumulative: \n",
    "            return t \n",
    "        \n",
    "    # should never get here \n",
    "    assert(False) "
   ]
  },
  {
   "cell_type": "code",
   "execution_count": 17,
   "metadata": {},
   "outputs": [],
   "source": [
    "def generate(): \n",
    "    for i in range(4): # generate 4 lines\n",
    "        sentence = []\n",
    "\n",
    "        # initial word \n",
    "        w0 = sample_word(initial) \n",
    "        sentence.append(w0) \n",
    "\n",
    "        # sample second word\n",
    "        w1 = sample_word(first_order[w0])\n",
    "        sentence.append(w1) \n",
    "\n",
    "        # second-order transition until END \n",
    "        while True: \n",
    "            w2 = sample_word(second_order[(w0, w1)])\n",
    "            if w2 == \"END\": \n",
    "                break \n",
    "            \n",
    "            sentence.append(w2)\n",
    "            w0 = w1\n",
    "            w1 = w2\n",
    "        print(' '.join(sentence))\n"
   ]
  },
  {
   "cell_type": "code",
   "execution_count": 19,
   "metadata": {},
   "outputs": [
    {
     "name": "stdout",
     "output_type": "stream",
     "text": [
      "first theres the childrens house of makebelieve\n",
      "are there they said it and besides\n",
      "and this bill\n",
      "my french indian esquimaux\n"
     ]
    }
   ],
   "source": [
    "generate()"
   ]
  }
 ],
 "metadata": {
  "kernelspec": {
   "display_name": "Python 3",
   "language": "python",
   "name": "python3"
  },
  "language_info": {
   "codemirror_mode": {
    "name": "ipython",
    "version": 3
   },
   "file_extension": ".py",
   "mimetype": "text/x-python",
   "name": "python",
   "nbconvert_exporter": "python",
   "pygments_lexer": "ipython3",
   "version": "3.9.6 (default, Oct 18 2022, 12:41:40) \n[Clang 14.0.0 (clang-1400.0.29.202)]"
  },
  "orig_nbformat": 4,
  "vscode": {
   "interpreter": {
    "hash": "8a5edab282632443219e051e4ade2d1d5bbc671c781051bf1437897cbdfea0f1"
   }
  }
 },
 "nbformat": 4,
 "nbformat_minor": 2
}
